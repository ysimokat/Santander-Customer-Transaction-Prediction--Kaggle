{
 "cells": [
  {
   "cell_type": "code",
   "execution_count": 1,
   "metadata": {},
   "outputs": [],
   "source": [
    "import os\n",
    "import pandas as pd\n",
    "import numpy as np"
   ]
  },
  {
   "cell_type": "code",
   "execution_count": 2,
   "metadata": {},
   "outputs": [],
   "source": [
    "import warnings\n",
    "warnings.filterwarnings('ignore')\n",
    "\n",
    "import matplotlib.pyplot as plt\n",
    "%matplotlib inline"
   ]
  },
  {
   "cell_type": "code",
   "execution_count": 3,
   "metadata": {},
   "outputs": [
    {
     "data": {
      "text/html": [
       "<div>\n",
       "<style scoped>\n",
       "    .dataframe tbody tr th:only-of-type {\n",
       "        vertical-align: middle;\n",
       "    }\n",
       "\n",
       "    .dataframe tbody tr th {\n",
       "        vertical-align: top;\n",
       "    }\n",
       "\n",
       "    .dataframe thead th {\n",
       "        text-align: right;\n",
       "    }\n",
       "</style>\n",
       "<table border=\"1\" class=\"dataframe\">\n",
       "  <thead>\n",
       "    <tr style=\"text-align: right;\">\n",
       "      <th></th>\n",
       "      <th>ID_code</th>\n",
       "      <th>target</th>\n",
       "      <th>var_0</th>\n",
       "      <th>var_1</th>\n",
       "      <th>var_2</th>\n",
       "      <th>var_3</th>\n",
       "      <th>var_4</th>\n",
       "      <th>var_5</th>\n",
       "      <th>var_6</th>\n",
       "      <th>var_7</th>\n",
       "      <th>...</th>\n",
       "      <th>var_190</th>\n",
       "      <th>var_191</th>\n",
       "      <th>var_192</th>\n",
       "      <th>var_193</th>\n",
       "      <th>var_194</th>\n",
       "      <th>var_195</th>\n",
       "      <th>var_196</th>\n",
       "      <th>var_197</th>\n",
       "      <th>var_198</th>\n",
       "      <th>var_199</th>\n",
       "    </tr>\n",
       "  </thead>\n",
       "  <tbody>\n",
       "    <tr>\n",
       "      <th>0</th>\n",
       "      <td>train_0</td>\n",
       "      <td>0</td>\n",
       "      <td>8.9255</td>\n",
       "      <td>-6.7863</td>\n",
       "      <td>11.9081</td>\n",
       "      <td>5.0930</td>\n",
       "      <td>11.4607</td>\n",
       "      <td>-9.2834</td>\n",
       "      <td>5.1187</td>\n",
       "      <td>18.6266</td>\n",
       "      <td>...</td>\n",
       "      <td>4.4354</td>\n",
       "      <td>3.9642</td>\n",
       "      <td>3.1364</td>\n",
       "      <td>1.6910</td>\n",
       "      <td>18.5227</td>\n",
       "      <td>-2.3978</td>\n",
       "      <td>7.8784</td>\n",
       "      <td>8.5635</td>\n",
       "      <td>12.7803</td>\n",
       "      <td>-1.0914</td>\n",
       "    </tr>\n",
       "    <tr>\n",
       "      <th>1</th>\n",
       "      <td>train_1</td>\n",
       "      <td>0</td>\n",
       "      <td>11.5006</td>\n",
       "      <td>-4.1473</td>\n",
       "      <td>13.8588</td>\n",
       "      <td>5.3890</td>\n",
       "      <td>12.3622</td>\n",
       "      <td>7.0433</td>\n",
       "      <td>5.6208</td>\n",
       "      <td>16.5338</td>\n",
       "      <td>...</td>\n",
       "      <td>7.6421</td>\n",
       "      <td>7.7214</td>\n",
       "      <td>2.5837</td>\n",
       "      <td>10.9516</td>\n",
       "      <td>15.4305</td>\n",
       "      <td>2.0339</td>\n",
       "      <td>8.1267</td>\n",
       "      <td>8.7889</td>\n",
       "      <td>18.3560</td>\n",
       "      <td>1.9518</td>\n",
       "    </tr>\n",
       "    <tr>\n",
       "      <th>2</th>\n",
       "      <td>train_2</td>\n",
       "      <td>0</td>\n",
       "      <td>8.6093</td>\n",
       "      <td>-2.7457</td>\n",
       "      <td>12.0805</td>\n",
       "      <td>7.8928</td>\n",
       "      <td>10.5825</td>\n",
       "      <td>-9.0837</td>\n",
       "      <td>6.9427</td>\n",
       "      <td>14.6155</td>\n",
       "      <td>...</td>\n",
       "      <td>2.9057</td>\n",
       "      <td>9.7905</td>\n",
       "      <td>1.6704</td>\n",
       "      <td>1.6858</td>\n",
       "      <td>21.6042</td>\n",
       "      <td>3.1417</td>\n",
       "      <td>-6.5213</td>\n",
       "      <td>8.2675</td>\n",
       "      <td>14.7222</td>\n",
       "      <td>0.3965</td>\n",
       "    </tr>\n",
       "    <tr>\n",
       "      <th>3</th>\n",
       "      <td>train_3</td>\n",
       "      <td>0</td>\n",
       "      <td>11.0604</td>\n",
       "      <td>-2.1518</td>\n",
       "      <td>8.9522</td>\n",
       "      <td>7.1957</td>\n",
       "      <td>12.5846</td>\n",
       "      <td>-1.8361</td>\n",
       "      <td>5.8428</td>\n",
       "      <td>14.9250</td>\n",
       "      <td>...</td>\n",
       "      <td>4.4666</td>\n",
       "      <td>4.7433</td>\n",
       "      <td>0.7178</td>\n",
       "      <td>1.4214</td>\n",
       "      <td>23.0347</td>\n",
       "      <td>-1.2706</td>\n",
       "      <td>-2.9275</td>\n",
       "      <td>10.2922</td>\n",
       "      <td>17.9697</td>\n",
       "      <td>-8.9996</td>\n",
       "    </tr>\n",
       "    <tr>\n",
       "      <th>4</th>\n",
       "      <td>train_4</td>\n",
       "      <td>0</td>\n",
       "      <td>9.8369</td>\n",
       "      <td>-1.4834</td>\n",
       "      <td>12.8746</td>\n",
       "      <td>6.6375</td>\n",
       "      <td>12.2772</td>\n",
       "      <td>2.4486</td>\n",
       "      <td>5.9405</td>\n",
       "      <td>19.2514</td>\n",
       "      <td>...</td>\n",
       "      <td>-1.4905</td>\n",
       "      <td>9.5214</td>\n",
       "      <td>-0.1508</td>\n",
       "      <td>9.1942</td>\n",
       "      <td>13.2876</td>\n",
       "      <td>-1.5121</td>\n",
       "      <td>3.9267</td>\n",
       "      <td>9.5031</td>\n",
       "      <td>17.9974</td>\n",
       "      <td>-8.8104</td>\n",
       "    </tr>\n",
       "  </tbody>\n",
       "</table>\n",
       "<p>5 rows × 202 columns</p>\n",
       "</div>"
      ],
      "text/plain": [
       "   ID_code  target    var_0   var_1    var_2   var_3    var_4   var_5   var_6  \\\n",
       "0  train_0       0   8.9255 -6.7863  11.9081  5.0930  11.4607 -9.2834  5.1187   \n",
       "1  train_1       0  11.5006 -4.1473  13.8588  5.3890  12.3622  7.0433  5.6208   \n",
       "2  train_2       0   8.6093 -2.7457  12.0805  7.8928  10.5825 -9.0837  6.9427   \n",
       "3  train_3       0  11.0604 -2.1518   8.9522  7.1957  12.5846 -1.8361  5.8428   \n",
       "4  train_4       0   9.8369 -1.4834  12.8746  6.6375  12.2772  2.4486  5.9405   \n",
       "\n",
       "     var_7   ...     var_190  var_191  var_192  var_193  var_194  var_195  \\\n",
       "0  18.6266   ...      4.4354   3.9642   3.1364   1.6910  18.5227  -2.3978   \n",
       "1  16.5338   ...      7.6421   7.7214   2.5837  10.9516  15.4305   2.0339   \n",
       "2  14.6155   ...      2.9057   9.7905   1.6704   1.6858  21.6042   3.1417   \n",
       "3  14.9250   ...      4.4666   4.7433   0.7178   1.4214  23.0347  -1.2706   \n",
       "4  19.2514   ...     -1.4905   9.5214  -0.1508   9.1942  13.2876  -1.5121   \n",
       "\n",
       "   var_196  var_197  var_198  var_199  \n",
       "0   7.8784   8.5635  12.7803  -1.0914  \n",
       "1   8.1267   8.7889  18.3560   1.9518  \n",
       "2  -6.5213   8.2675  14.7222   0.3965  \n",
       "3  -2.9275  10.2922  17.9697  -8.9996  \n",
       "4   3.9267   9.5031  17.9974  -8.8104  \n",
       "\n",
       "[5 rows x 202 columns]"
      ]
     },
     "execution_count": 3,
     "metadata": {},
     "output_type": "execute_result"
    }
   ],
   "source": [
    "train = pd.read_csv('train.csv')\n",
    "train.head()"
   ]
  },
  {
   "cell_type": "code",
   "execution_count": 4,
   "metadata": {},
   "outputs": [
    {
     "data": {
      "text/html": [
       "<div>\n",
       "<style scoped>\n",
       "    .dataframe tbody tr th:only-of-type {\n",
       "        vertical-align: middle;\n",
       "    }\n",
       "\n",
       "    .dataframe tbody tr th {\n",
       "        vertical-align: top;\n",
       "    }\n",
       "\n",
       "    .dataframe thead th {\n",
       "        text-align: right;\n",
       "    }\n",
       "</style>\n",
       "<table border=\"1\" class=\"dataframe\">\n",
       "  <thead>\n",
       "    <tr style=\"text-align: right;\">\n",
       "      <th></th>\n",
       "      <th>ID_code</th>\n",
       "      <th>var_0</th>\n",
       "      <th>var_1</th>\n",
       "      <th>var_2</th>\n",
       "      <th>var_3</th>\n",
       "      <th>var_4</th>\n",
       "      <th>var_5</th>\n",
       "      <th>var_6</th>\n",
       "      <th>var_7</th>\n",
       "      <th>var_8</th>\n",
       "      <th>...</th>\n",
       "      <th>var_190</th>\n",
       "      <th>var_191</th>\n",
       "      <th>var_192</th>\n",
       "      <th>var_193</th>\n",
       "      <th>var_194</th>\n",
       "      <th>var_195</th>\n",
       "      <th>var_196</th>\n",
       "      <th>var_197</th>\n",
       "      <th>var_198</th>\n",
       "      <th>var_199</th>\n",
       "    </tr>\n",
       "  </thead>\n",
       "  <tbody>\n",
       "    <tr>\n",
       "      <th>0</th>\n",
       "      <td>test_0</td>\n",
       "      <td>11.0656</td>\n",
       "      <td>7.7798</td>\n",
       "      <td>12.9536</td>\n",
       "      <td>9.4292</td>\n",
       "      <td>11.4327</td>\n",
       "      <td>-2.3805</td>\n",
       "      <td>5.8493</td>\n",
       "      <td>18.2675</td>\n",
       "      <td>2.1337</td>\n",
       "      <td>...</td>\n",
       "      <td>-2.1556</td>\n",
       "      <td>11.8495</td>\n",
       "      <td>-1.4300</td>\n",
       "      <td>2.4508</td>\n",
       "      <td>13.7112</td>\n",
       "      <td>2.4669</td>\n",
       "      <td>4.3654</td>\n",
       "      <td>10.7200</td>\n",
       "      <td>15.4722</td>\n",
       "      <td>-8.7197</td>\n",
       "    </tr>\n",
       "    <tr>\n",
       "      <th>1</th>\n",
       "      <td>test_1</td>\n",
       "      <td>8.5304</td>\n",
       "      <td>1.2543</td>\n",
       "      <td>11.3047</td>\n",
       "      <td>5.1858</td>\n",
       "      <td>9.1974</td>\n",
       "      <td>-4.0117</td>\n",
       "      <td>6.0196</td>\n",
       "      <td>18.6316</td>\n",
       "      <td>-4.4131</td>\n",
       "      <td>...</td>\n",
       "      <td>10.6165</td>\n",
       "      <td>8.8349</td>\n",
       "      <td>0.9403</td>\n",
       "      <td>10.1282</td>\n",
       "      <td>15.5765</td>\n",
       "      <td>0.4773</td>\n",
       "      <td>-1.4852</td>\n",
       "      <td>9.8714</td>\n",
       "      <td>19.1293</td>\n",
       "      <td>-20.9760</td>\n",
       "    </tr>\n",
       "    <tr>\n",
       "      <th>2</th>\n",
       "      <td>test_2</td>\n",
       "      <td>5.4827</td>\n",
       "      <td>-10.3581</td>\n",
       "      <td>10.1407</td>\n",
       "      <td>7.0479</td>\n",
       "      <td>10.2628</td>\n",
       "      <td>9.8052</td>\n",
       "      <td>4.8950</td>\n",
       "      <td>20.2537</td>\n",
       "      <td>1.5233</td>\n",
       "      <td>...</td>\n",
       "      <td>-0.7484</td>\n",
       "      <td>10.9935</td>\n",
       "      <td>1.9803</td>\n",
       "      <td>2.1800</td>\n",
       "      <td>12.9813</td>\n",
       "      <td>2.1281</td>\n",
       "      <td>-7.1086</td>\n",
       "      <td>7.0618</td>\n",
       "      <td>19.8956</td>\n",
       "      <td>-23.1794</td>\n",
       "    </tr>\n",
       "    <tr>\n",
       "      <th>3</th>\n",
       "      <td>test_3</td>\n",
       "      <td>8.5374</td>\n",
       "      <td>-1.3222</td>\n",
       "      <td>12.0220</td>\n",
       "      <td>6.5749</td>\n",
       "      <td>8.8458</td>\n",
       "      <td>3.1744</td>\n",
       "      <td>4.9397</td>\n",
       "      <td>20.5660</td>\n",
       "      <td>3.3755</td>\n",
       "      <td>...</td>\n",
       "      <td>9.5702</td>\n",
       "      <td>9.0766</td>\n",
       "      <td>1.6580</td>\n",
       "      <td>3.5813</td>\n",
       "      <td>15.1874</td>\n",
       "      <td>3.1656</td>\n",
       "      <td>3.9567</td>\n",
       "      <td>9.2295</td>\n",
       "      <td>13.0168</td>\n",
       "      <td>-4.2108</td>\n",
       "    </tr>\n",
       "    <tr>\n",
       "      <th>4</th>\n",
       "      <td>test_4</td>\n",
       "      <td>11.7058</td>\n",
       "      <td>-0.1327</td>\n",
       "      <td>14.1295</td>\n",
       "      <td>7.7506</td>\n",
       "      <td>9.1035</td>\n",
       "      <td>-8.5848</td>\n",
       "      <td>6.8595</td>\n",
       "      <td>10.6048</td>\n",
       "      <td>2.9890</td>\n",
       "      <td>...</td>\n",
       "      <td>4.2259</td>\n",
       "      <td>9.1723</td>\n",
       "      <td>1.2835</td>\n",
       "      <td>3.3778</td>\n",
       "      <td>19.5542</td>\n",
       "      <td>-0.2860</td>\n",
       "      <td>-5.1612</td>\n",
       "      <td>7.2882</td>\n",
       "      <td>13.9260</td>\n",
       "      <td>-9.1846</td>\n",
       "    </tr>\n",
       "  </tbody>\n",
       "</table>\n",
       "<p>5 rows × 201 columns</p>\n",
       "</div>"
      ],
      "text/plain": [
       "  ID_code    var_0    var_1    var_2   var_3    var_4   var_5   var_6  \\\n",
       "0  test_0  11.0656   7.7798  12.9536  9.4292  11.4327 -2.3805  5.8493   \n",
       "1  test_1   8.5304   1.2543  11.3047  5.1858   9.1974 -4.0117  6.0196   \n",
       "2  test_2   5.4827 -10.3581  10.1407  7.0479  10.2628  9.8052  4.8950   \n",
       "3  test_3   8.5374  -1.3222  12.0220  6.5749   8.8458  3.1744  4.9397   \n",
       "4  test_4  11.7058  -0.1327  14.1295  7.7506   9.1035 -8.5848  6.8595   \n",
       "\n",
       "     var_7   var_8   ...     var_190  var_191  var_192  var_193  var_194  \\\n",
       "0  18.2675  2.1337   ...     -2.1556  11.8495  -1.4300   2.4508  13.7112   \n",
       "1  18.6316 -4.4131   ...     10.6165   8.8349   0.9403  10.1282  15.5765   \n",
       "2  20.2537  1.5233   ...     -0.7484  10.9935   1.9803   2.1800  12.9813   \n",
       "3  20.5660  3.3755   ...      9.5702   9.0766   1.6580   3.5813  15.1874   \n",
       "4  10.6048  2.9890   ...      4.2259   9.1723   1.2835   3.3778  19.5542   \n",
       "\n",
       "   var_195  var_196  var_197  var_198  var_199  \n",
       "0   2.4669   4.3654  10.7200  15.4722  -8.7197  \n",
       "1   0.4773  -1.4852   9.8714  19.1293 -20.9760  \n",
       "2   2.1281  -7.1086   7.0618  19.8956 -23.1794  \n",
       "3   3.1656   3.9567   9.2295  13.0168  -4.2108  \n",
       "4  -0.2860  -5.1612   7.2882  13.9260  -9.1846  \n",
       "\n",
       "[5 rows x 201 columns]"
      ]
     },
     "execution_count": 4,
     "metadata": {},
     "output_type": "execute_result"
    }
   ],
   "source": [
    "test = pd.read_csv('test.csv')\n",
    "test.head()"
   ]
  },
  {
   "cell_type": "code",
   "execution_count": 5,
   "metadata": {},
   "outputs": [
    {
     "data": {
      "text/plain": [
       "<matplotlib.axes._subplots.AxesSubplot at 0x1ed8caff7b8>"
      ]
     },
     "execution_count": 5,
     "metadata": {},
     "output_type": "execute_result"
    },
    {
     "data": {
      "image/png": "[encoded data removed]",
      "text/plain": [
       "<Figure size 432x288 with 1 Axes>"
      ]
     },
     "metadata": {
      "needs_background": "light"
     },
     "output_type": "display_data"
    }
   ],
   "source": [
    "train['target'].value_counts().plot(kind='bar')"
   ]
  },
  {
   "cell_type": "code",
   "execution_count": 6,
   "metadata": {},
   "outputs": [],
   "source": [
    "# since the distrubution of target lables is very imbalanced, so I will use SMOTE\n",
    "from sklearn.datasets import make_classification\n",
    "from imblearn.over_sampling import SMOTE"
   ]
  },
  {
   "cell_type": "code",
   "execution_count": 7,
   "metadata": {},
   "outputs": [],
   "source": [
    "x_train = train.drop(columns = ['ID_code','target'],axis=1)\n",
    "y_train = train['target']"
   ]
  },
  {
   "cell_type": "code",
   "execution_count": 8,
   "metadata": {},
   "outputs": [],
   "source": [
    "from sklearn.preprocessing import StandardScaler\n",
    "x_train = StandardScaler().fit_transform(x_train)"
   ]
  },
  {
   "cell_type": "code",
   "execution_count": 9,
   "metadata": {},
   "outputs": [],
   "source": [
    "np.set_printoptions(precision=2, linewidth=80, suppress=True)"
   ]
  },
  {
   "cell_type": "code",
   "execution_count": 10,
   "metadata": {},
   "outputs": [],
   "source": [
    "test = StandardScaler().fit_transform(test.drop(columns=['ID_code'],axis=1))"
   ]
  },
  {
   "cell_type": "code",
   "execution_count": 11,
   "metadata": {},
   "outputs": [
    {
     "data": {
      "text/plain": [
       "((200000, 200), (200000, 200))"
      ]
     },
     "execution_count": 11,
     "metadata": {},
     "output_type": "execute_result"
    }
   ],
   "source": [
    "test.shape,x_train.shape"
   ]
  },
  {
   "cell_type": "code",
   "execution_count": 12,
   "metadata": {},
   "outputs": [],
   "source": [
    "sm = SMOTE(random_state=0)\n",
    "x_train_sm , y_train_sm = sm.fit_sample(x_train,y_train)"
   ]
  },
  {
   "cell_type": "code",
   "execution_count": 13,
   "metadata": {},
   "outputs": [
    {
     "data": {
      "text/plain": [
       "((359804, 200), (359804,))"
      ]
     },
     "execution_count": 13,
     "metadata": {},
     "output_type": "execute_result"
    }
   ],
   "source": [
    "x_train_sm.shape,y_train_sm.shape"
   ]
  },
  {
   "cell_type": "code",
   "execution_count": 14,
   "metadata": {},
   "outputs": [],
   "source": [
    "y_train_sm = pd.Series(y_train_sm, name ='target')"
   ]
  },
  {
   "cell_type": "code",
   "execution_count": 15,
   "metadata": {},
   "outputs": [
    {
     "data": {
      "text/plain": [
       "<matplotlib.axes._subplots.AxesSubplot at 0x1ed8e630f60>"
      ]
     },
     "execution_count": 15,
     "metadata": {},
     "output_type": "execute_result"
    },
    {
     "data": {
      "image/png": "[encoded data removed]",
      "text/plain": [
       "<Figure size 432x288 with 1 Axes>"
      ]
     },
     "metadata": {
      "needs_background": "light"
     },
     "output_type": "display_data"
    }
   ],
   "source": [
    "y_train_sm.value_counts().plot(kind='bar')"
   ]
  },
  {
   "cell_type": "code",
   "execution_count": 16,
   "metadata": {},
   "outputs": [
    {
     "data": {
      "text/html": [
       "<div>\n",
       "<style scoped>\n",
       "    .dataframe tbody tr th:only-of-type {\n",
       "        vertical-align: middle;\n",
       "    }\n",
       "\n",
       "    .dataframe tbody tr th {\n",
       "        vertical-align: top;\n",
       "    }\n",
       "\n",
       "    .dataframe thead th {\n",
       "        text-align: right;\n",
       "    }\n",
       "</style>\n",
       "<table border=\"1\" class=\"dataframe\">\n",
       "  <thead>\n",
       "    <tr style=\"text-align: right;\">\n",
       "      <th></th>\n",
       "      <th>var_0</th>\n",
       "      <th>var_1</th>\n",
       "      <th>var_2</th>\n",
       "      <th>var_3</th>\n",
       "      <th>var_4</th>\n",
       "      <th>var_5</th>\n",
       "      <th>var_6</th>\n",
       "      <th>var_7</th>\n",
       "      <th>var_8</th>\n",
       "      <th>var_9</th>\n",
       "      <th>...</th>\n",
       "      <th>var_190</th>\n",
       "      <th>var_191</th>\n",
       "      <th>var_192</th>\n",
       "      <th>var_193</th>\n",
       "      <th>var_194</th>\n",
       "      <th>var_195</th>\n",
       "      <th>var_196</th>\n",
       "      <th>var_197</th>\n",
       "      <th>var_198</th>\n",
       "      <th>var_199</th>\n",
       "    </tr>\n",
       "  </thead>\n",
       "  <tbody>\n",
       "    <tr>\n",
       "      <th>0</th>\n",
       "      <td>-0.577102</td>\n",
       "      <td>-1.273737</td>\n",
       "      <td>0.451707</td>\n",
       "      <td>-0.833709</td>\n",
       "      <td>0.235571</td>\n",
       "      <td>-0.536430</td>\n",
       "      <td>-0.334926</td>\n",
       "      <td>0.608751</td>\n",
       "      <td>-1.561580</td>\n",
       "      <td>-1.473796</td>\n",
       "      <td>...</td>\n",
       "      <td>0.263374</td>\n",
       "      <td>-1.149158</td>\n",
       "      <td>0.817469</td>\n",
       "      <td>-0.411013</td>\n",
       "      <td>0.168705</td>\n",
       "      <td>-1.578117</td>\n",
       "      <td>1.022131</td>\n",
       "      <td>-0.373968</td>\n",
       "      <td>-1.026398</td>\n",
       "      <td>0.214135</td>\n",
       "    </tr>\n",
       "    <tr>\n",
       "      <th>1</th>\n",
       "      <td>0.269959</td>\n",
       "      <td>-0.622138</td>\n",
       "      <td>1.190360</td>\n",
       "      <td>-0.688846</td>\n",
       "      <td>0.790975</td>\n",
       "      <td>1.539900</td>\n",
       "      <td>0.244461</td>\n",
       "      <td>-0.003525</td>\n",
       "      <td>0.858974</td>\n",
       "      <td>0.419300</td>\n",
       "      <td>...</td>\n",
       "      <td>0.966611</td>\n",
       "      <td>0.093605</td>\n",
       "      <td>0.443623</td>\n",
       "      <td>1.908764</td>\n",
       "      <td>-0.817594</td>\n",
       "      <td>1.522342</td>\n",
       "      <td>1.067654</td>\n",
       "      <td>-0.129400</td>\n",
       "      <td>0.825417</td>\n",
       "      <td>0.505685</td>\n",
       "    </tr>\n",
       "    <tr>\n",
       "      <th>2</th>\n",
       "      <td>-0.681113</td>\n",
       "      <td>-0.276066</td>\n",
       "      <td>0.516988</td>\n",
       "      <td>0.536516</td>\n",
       "      <td>-0.305477</td>\n",
       "      <td>-0.511033</td>\n",
       "      <td>1.769839</td>\n",
       "      <td>-0.564749</td>\n",
       "      <td>-1.561370</td>\n",
       "      <td>-1.307408</td>\n",
       "      <td>...</td>\n",
       "      <td>-0.072093</td>\n",
       "      <td>0.777997</td>\n",
       "      <td>-0.174131</td>\n",
       "      <td>-0.412316</td>\n",
       "      <td>1.151591</td>\n",
       "      <td>2.297370</td>\n",
       "      <td>-1.617906</td>\n",
       "      <td>-0.695141</td>\n",
       "      <td>-0.381449</td>\n",
       "      <td>0.356681</td>\n",
       "    </tr>\n",
       "    <tr>\n",
       "      <th>3</th>\n",
       "      <td>0.125158</td>\n",
       "      <td>-0.129426</td>\n",
       "      <td>-0.667575</td>\n",
       "      <td>0.195355</td>\n",
       "      <td>0.927992</td>\n",
       "      <td>0.410672</td>\n",
       "      <td>0.500633</td>\n",
       "      <td>-0.474201</td>\n",
       "      <td>-1.843910</td>\n",
       "      <td>0.548767</td>\n",
       "      <td>...</td>\n",
       "      <td>0.270216</td>\n",
       "      <td>-0.891456</td>\n",
       "      <td>-0.818468</td>\n",
       "      <td>-0.478548</td>\n",
       "      <td>1.607869</td>\n",
       "      <td>-0.789517</td>\n",
       "      <td>-0.959020</td>\n",
       "      <td>1.501744</td>\n",
       "      <td>0.697118</td>\n",
       "      <td>-0.543502</td>\n",
       "    </tr>\n",
       "    <tr>\n",
       "      <th>4</th>\n",
       "      <td>-0.277303</td>\n",
       "      <td>0.035610</td>\n",
       "      <td>0.817683</td>\n",
       "      <td>-0.077829</td>\n",
       "      <td>0.738607</td>\n",
       "      <td>0.955574</td>\n",
       "      <td>0.613372</td>\n",
       "      <td>0.791544</td>\n",
       "      <td>1.794753</td>\n",
       "      <td>0.090006</td>\n",
       "      <td>...</td>\n",
       "      <td>-1.036191</td>\n",
       "      <td>0.688988</td>\n",
       "      <td>-1.405987</td>\n",
       "      <td>1.468536</td>\n",
       "      <td>-1.501101</td>\n",
       "      <td>-0.958473</td>\n",
       "      <td>0.297627</td>\n",
       "      <td>0.645537</td>\n",
       "      <td>0.706318</td>\n",
       "      <td>-0.525375</td>\n",
       "    </tr>\n",
       "  </tbody>\n",
       "</table>\n",
       "<p>5 rows × 200 columns</p>\n",
       "</div>"
      ],
      "text/plain": [
       "      var_0     var_1     var_2     var_3     var_4     var_5     var_6  \\\n",
       "0 -0.577102 -1.273737  0.451707 -0.833709  0.235571 -0.536430 -0.334926   \n",
       "1  0.269959 -0.622138  1.190360 -0.688846  0.790975  1.539900  0.244461   \n",
       "2 -0.681113 -0.276066  0.516988  0.536516 -0.305477 -0.511033  1.769839   \n",
       "3  0.125158 -0.129426 -0.667575  0.195355  0.927992  0.410672  0.500633   \n",
       "4 -0.277303  0.035610  0.817683 -0.077829  0.738607  0.955574  0.613372   \n",
       "\n",
       "      var_7     var_8     var_9    ...      var_190   var_191   var_192  \\\n",
       "0  0.608751 -1.561580 -1.473796    ...     0.263374 -1.149158  0.817469   \n",
       "1 -0.003525  0.858974  0.419300    ...     0.966611  0.093605  0.443623   \n",
       "2 -0.564749 -1.561370 -1.307408    ...    -0.072093  0.777997 -0.174131   \n",
       "3 -0.474201 -1.843910  0.548767    ...     0.270216 -0.891456 -0.818468   \n",
       "4  0.791544  1.794753  0.090006    ...    -1.036191  0.688988 -1.405987   \n",
       "\n",
       "    var_193   var_194   var_195   var_196   var_197   var_198   var_199  \n",
       "0 -0.411013  0.168705 -1.578117  1.022131 -0.373968 -1.026398  0.214135  \n",
       "1  1.908764 -0.817594  1.522342  1.067654 -0.129400  0.825417  0.505685  \n",
       "2 -0.412316  1.151591  2.297370 -1.617906 -0.695141 -0.381449  0.356681  \n",
       "3 -0.478548  1.607869 -0.789517 -0.959020  1.501744  0.697118 -0.543502  \n",
       "4  1.468536 -1.501101 -0.958473  0.297627  0.645537  0.706318 -0.525375  \n",
       "\n",
       "[5 rows x 200 columns]"
      ]
     },
     "execution_count": 16,
     "metadata": {},
     "output_type": "execute_result"
    }
   ],
   "source": [
    "train = pd.read_csv('train.csv')\n",
    "\n",
    "x_train_sm = pd.DataFrame(x_train_sm, columns= train.drop(columns=['ID_code','target'],axis=1).columns.values)\n",
    "x_train_sm.head()"
   ]
  },
  {
   "cell_type": "code",
   "execution_count": 17,
   "metadata": {},
   "outputs": [
    {
     "data": {
      "text/html": [
       "<div>\n",
       "<style scoped>\n",
       "    .dataframe tbody tr th:only-of-type {\n",
       "        vertical-align: middle;\n",
       "    }\n",
       "\n",
       "    .dataframe tbody tr th {\n",
       "        vertical-align: top;\n",
       "    }\n",
       "\n",
       "    .dataframe thead th {\n",
       "        text-align: right;\n",
       "    }\n",
       "</style>\n",
       "<table border=\"1\" class=\"dataframe\">\n",
       "  <thead>\n",
       "    <tr style=\"text-align: right;\">\n",
       "      <th></th>\n",
       "      <th>var_0</th>\n",
       "      <th>var_1</th>\n",
       "      <th>var_2</th>\n",
       "      <th>var_3</th>\n",
       "      <th>var_4</th>\n",
       "      <th>var_5</th>\n",
       "      <th>var_6</th>\n",
       "      <th>var_7</th>\n",
       "      <th>var_8</th>\n",
       "      <th>var_9</th>\n",
       "      <th>...</th>\n",
       "      <th>var_190</th>\n",
       "      <th>var_191</th>\n",
       "      <th>var_192</th>\n",
       "      <th>var_193</th>\n",
       "      <th>var_194</th>\n",
       "      <th>var_195</th>\n",
       "      <th>var_196</th>\n",
       "      <th>var_197</th>\n",
       "      <th>var_198</th>\n",
       "      <th>var_199</th>\n",
       "    </tr>\n",
       "  </thead>\n",
       "  <tbody>\n",
       "    <tr>\n",
       "      <th>0</th>\n",
       "      <td>11.0656</td>\n",
       "      <td>7.7798</td>\n",
       "      <td>12.9536</td>\n",
       "      <td>9.4292</td>\n",
       "      <td>11.4327</td>\n",
       "      <td>-2.3805</td>\n",
       "      <td>5.8493</td>\n",
       "      <td>18.2675</td>\n",
       "      <td>2.1337</td>\n",
       "      <td>8.8100</td>\n",
       "      <td>...</td>\n",
       "      <td>-2.1556</td>\n",
       "      <td>11.8495</td>\n",
       "      <td>-1.4300</td>\n",
       "      <td>2.4508</td>\n",
       "      <td>13.7112</td>\n",
       "      <td>2.4669</td>\n",
       "      <td>4.3654</td>\n",
       "      <td>10.7200</td>\n",
       "      <td>15.4722</td>\n",
       "      <td>-8.7197</td>\n",
       "    </tr>\n",
       "    <tr>\n",
       "      <th>1</th>\n",
       "      <td>8.5304</td>\n",
       "      <td>1.2543</td>\n",
       "      <td>11.3047</td>\n",
       "      <td>5.1858</td>\n",
       "      <td>9.1974</td>\n",
       "      <td>-4.0117</td>\n",
       "      <td>6.0196</td>\n",
       "      <td>18.6316</td>\n",
       "      <td>-4.4131</td>\n",
       "      <td>5.9739</td>\n",
       "      <td>...</td>\n",
       "      <td>10.6165</td>\n",
       "      <td>8.8349</td>\n",
       "      <td>0.9403</td>\n",
       "      <td>10.1282</td>\n",
       "      <td>15.5765</td>\n",
       "      <td>0.4773</td>\n",
       "      <td>-1.4852</td>\n",
       "      <td>9.8714</td>\n",
       "      <td>19.1293</td>\n",
       "      <td>-20.9760</td>\n",
       "    </tr>\n",
       "    <tr>\n",
       "      <th>2</th>\n",
       "      <td>5.4827</td>\n",
       "      <td>-10.3581</td>\n",
       "      <td>10.1407</td>\n",
       "      <td>7.0479</td>\n",
       "      <td>10.2628</td>\n",
       "      <td>9.8052</td>\n",
       "      <td>4.8950</td>\n",
       "      <td>20.2537</td>\n",
       "      <td>1.5233</td>\n",
       "      <td>8.3442</td>\n",
       "      <td>...</td>\n",
       "      <td>-0.7484</td>\n",
       "      <td>10.9935</td>\n",
       "      <td>1.9803</td>\n",
       "      <td>2.1800</td>\n",
       "      <td>12.9813</td>\n",
       "      <td>2.1281</td>\n",
       "      <td>-7.1086</td>\n",
       "      <td>7.0618</td>\n",
       "      <td>19.8956</td>\n",
       "      <td>-23.1794</td>\n",
       "    </tr>\n",
       "    <tr>\n",
       "      <th>3</th>\n",
       "      <td>8.5374</td>\n",
       "      <td>-1.3222</td>\n",
       "      <td>12.0220</td>\n",
       "      <td>6.5749</td>\n",
       "      <td>8.8458</td>\n",
       "      <td>3.1744</td>\n",
       "      <td>4.9397</td>\n",
       "      <td>20.5660</td>\n",
       "      <td>3.3755</td>\n",
       "      <td>7.4578</td>\n",
       "      <td>...</td>\n",
       "      <td>9.5702</td>\n",
       "      <td>9.0766</td>\n",
       "      <td>1.6580</td>\n",
       "      <td>3.5813</td>\n",
       "      <td>15.1874</td>\n",
       "      <td>3.1656</td>\n",
       "      <td>3.9567</td>\n",
       "      <td>9.2295</td>\n",
       "      <td>13.0168</td>\n",
       "      <td>-4.2108</td>\n",
       "    </tr>\n",
       "    <tr>\n",
       "      <th>4</th>\n",
       "      <td>11.7058</td>\n",
       "      <td>-0.1327</td>\n",
       "      <td>14.1295</td>\n",
       "      <td>7.7506</td>\n",
       "      <td>9.1035</td>\n",
       "      <td>-8.5848</td>\n",
       "      <td>6.8595</td>\n",
       "      <td>10.6048</td>\n",
       "      <td>2.9890</td>\n",
       "      <td>7.1437</td>\n",
       "      <td>...</td>\n",
       "      <td>4.2259</td>\n",
       "      <td>9.1723</td>\n",
       "      <td>1.2835</td>\n",
       "      <td>3.3778</td>\n",
       "      <td>19.5542</td>\n",
       "      <td>-0.2860</td>\n",
       "      <td>-5.1612</td>\n",
       "      <td>7.2882</td>\n",
       "      <td>13.9260</td>\n",
       "      <td>-9.1846</td>\n",
       "    </tr>\n",
       "  </tbody>\n",
       "</table>\n",
       "<p>5 rows × 200 columns</p>\n",
       "</div>"
      ],
      "text/plain": [
       "     var_0    var_1    var_2   var_3    var_4   var_5   var_6    var_7  \\\n",
       "0  11.0656   7.7798  12.9536  9.4292  11.4327 -2.3805  5.8493  18.2675   \n",
       "1   8.5304   1.2543  11.3047  5.1858   9.1974 -4.0117  6.0196  18.6316   \n",
       "2   5.4827 -10.3581  10.1407  7.0479  10.2628  9.8052  4.8950  20.2537   \n",
       "3   8.5374  -1.3222  12.0220  6.5749   8.8458  3.1744  4.9397  20.5660   \n",
       "4  11.7058  -0.1327  14.1295  7.7506   9.1035 -8.5848  6.8595  10.6048   \n",
       "\n",
       "    var_8   var_9   ...     var_190  var_191  var_192  var_193  var_194  \\\n",
       "0  2.1337  8.8100   ...     -2.1556  11.8495  -1.4300   2.4508  13.7112   \n",
       "1 -4.4131  5.9739   ...     10.6165   8.8349   0.9403  10.1282  15.5765   \n",
       "2  1.5233  8.3442   ...     -0.7484  10.9935   1.9803   2.1800  12.9813   \n",
       "3  3.3755  7.4578   ...      9.5702   9.0766   1.6580   3.5813  15.1874   \n",
       "4  2.9890  7.1437   ...      4.2259   9.1723   1.2835   3.3778  19.5542   \n",
       "\n",
       "   var_195  var_196  var_197  var_198  var_199  \n",
       "0   2.4669   4.3654  10.7200  15.4722  -8.7197  \n",
       "1   0.4773  -1.4852   9.8714  19.1293 -20.9760  \n",
       "2   2.1281  -7.1086   7.0618  19.8956 -23.1794  \n",
       "3   3.1656   3.9567   9.2295  13.0168  -4.2108  \n",
       "4  -0.2860  -5.1612   7.2882  13.9260  -9.1846  \n",
       "\n",
       "[5 rows x 200 columns]"
      ]
     },
     "execution_count": 17,
     "metadata": {},
     "output_type": "execute_result"
    }
   ],
   "source": [
    "test = pd.read_csv('test.csv')\n",
    "\n",
    "x_test = pd.DataFrame(test, columns= test.drop(columns=['ID_code'],axis=1).columns.values)\n",
    "x_test.head()"
   ]
  },
  {
   "cell_type": "code",
   "execution_count": 18,
   "metadata": {},
   "outputs": [],
   "source": [
    "x_train_sm['sum'] = x_train_sm.sum(axis=1).values\n",
    "x_train_sm['mean'] = x_train_sm.mean(axis=1).values\n",
    "x_train_sm['std'] = x_train_sm.std(axis=1).values\n",
    "x_train_sm['min'] = x_train_sm.min(axis=1).values\n",
    "x_train_sm['max'] = x_train_sm.max(axis=1).values\n",
    "x_train_sm['skew'] = x_train_sm.skew(axis=1).values\n",
    "x_train_sm['kurt'] = x_train_sm.kurtosis(axis=1).values\n",
    "x_train_sm['med'] = x_train_sm.median(axis=1).values"
   ]
  },
  {
   "cell_type": "code",
   "execution_count": 19,
   "metadata": {},
   "outputs": [],
   "source": [
    "x_test['sum'] = x_test.sum(axis=1).values\n",
    "x_test['mean'] = x_test.mean(axis=1).values\n",
    "x_test['std'] = x_test.std(axis=1).values\n",
    "x_test['min'] = x_test.min(axis=1).values\n",
    "x_test['max'] = x_test.max(axis=1).values\n",
    "x_test['skew'] = x_test.skew(axis=1).values\n",
    "x_test['kurt'] = x_test.kurtosis(axis=1).values\n",
    "x_test['med'] = x_test.median(axis=1).values"
   ]
  },
  {
   "cell_type": "code",
   "execution_count": 20,
   "metadata": {},
   "outputs": [],
   "source": [
    "from sklearn.model_selection import train_test_split\n",
    "X_train, X_test, y_train, y_test = train_test_split(x_train_sm,y_train_sm,test_size=0.3, random_state=0)"
   ]
  },
  {
   "cell_type": "code",
   "execution_count": 21,
   "metadata": {},
   "outputs": [
    {
     "name": "stdout",
     "output_type": "stream",
     "text": [
      "Iteration 1, loss = 0.40856671\n"
     ]
    }
   ],
   "source": [
    "from sklearn.neural_network import MLPClassifier\n",
    "MLP = MLPClassifier(hidden_layer_sizes=(5,3,2),\n",
    "                     max_iter=1, \n",
    "                     activation='relu', \n",
    "                     learning_rate='constant',\n",
    "                     learning_rate_init=0.001,\n",
    "                     batch_size = 1,\n",
    "                     solver='adam',\n",
    "                     verbose =1)\n",
    "MLP.fit(X_train, y_train)\n",
    "y_pred = MLP.predict(X_test)"
   ]
  },
  {
   "cell_type": "code",
   "execution_count": 22,
   "metadata": {},
   "outputs": [
    {
     "data": {
      "text/plain": [
       "0.8347824695051215"
      ]
     },
     "execution_count": 22,
     "metadata": {},
     "output_type": "execute_result"
    }
   ],
   "source": [
    "from sklearn.metrics import roc_auc_score\n",
    "roc_auc_score(y_test,y_pred)"
   ]
  },
  {
   "cell_type": "code",
   "execution_count": 23,
   "metadata": {},
   "outputs": [
    {
     "name": "stdout",
     "output_type": "stream",
     "text": [
      "0.8372878798707228 0.8347816419929222\n"
     ]
    }
   ],
   "source": [
    "MLP_train_score = MLP.score(X_train, y_train)\n",
    "MLP_test_score = MLP.score(X_test, y_test)\n",
    "print(MLP_train_score,MLP_test_score)"
   ]
  },
  {
   "cell_type": "code",
   "execution_count": 24,
   "metadata": {},
   "outputs": [],
   "source": [
    "y_score= MLP.predict(x_test)\n",
    "\n",
    "pd.DataFrame({'ID_code': test['ID_code'],'target': y_score}).to_csv('MLP5_submission.csv',index=False)"
   ]
  },
  {
   "cell_type": "code",
   "execution_count": 28,
   "metadata": {},
   "outputs": [],
   "source": [
    "from feature_selector import FeatureSelector\n",
    "# Features are in train and labels are in train_labels\n",
    "fs = FeatureSelector(data = x_train_sm, labels = y_train_sm)"
   ]
  },
  {
   "cell_type": "code",
   "execution_count": 29,
   "metadata": {},
   "outputs": [
    {
     "name": "stdout",
     "output_type": "stream",
     "text": [
      "0 features with greater than 0.60 missing values.\n",
      "\n"
     ]
    }
   ],
   "source": [
    "fs.identify_missing(missing_threshold = 0.6)"
   ]
  },
  {
   "cell_type": "code",
   "execution_count": 30,
   "metadata": {},
   "outputs": [
    {
     "name": "stdout",
     "output_type": "stream",
     "text": [
      "2 features with a correlation magnitude greater than 0.98.\n",
      "\n"
     ]
    }
   ],
   "source": [
    "#The identify_collinear method finds collinear features based on a specified correlation coefficient value\n",
    "fs.identify_collinear(correlation_threshold = 0.98)"
   ]
  },
  {
   "cell_type": "code",
   "execution_count": 31,
   "metadata": {},
   "outputs": [
    {
     "data": {
      "image/png": "[encoded data removed]",
      "text/plain": [
       "<Figure size 720x576 with 2 Axes>"
      ]
     },
     "metadata": {
      "needs_background": "light"
     },
     "output_type": "display_data"
    }
   ],
   "source": [
    "fs.plot_collinear()"
   ]
  },
  {
   "cell_type": "code",
   "execution_count": 32,
   "metadata": {},
   "outputs": [
    {
     "data": {
      "text/html": [
       "<div>\n",
       "<style scoped>\n",
       "    .dataframe tbody tr th:only-of-type {\n",
       "        vertical-align: middle;\n",
       "    }\n",
       "\n",
       "    .dataframe tbody tr th {\n",
       "        vertical-align: top;\n",
       "    }\n",
       "\n",
       "    .dataframe thead th {\n",
       "        text-align: right;\n",
       "    }\n",
       "</style>\n",
       "<table border=\"1\" class=\"dataframe\">\n",
       "  <thead>\n",
       "    <tr style=\"text-align: right;\">\n",
       "      <th></th>\n",
       "      <th>drop_feature</th>\n",
       "      <th>corr_feature</th>\n",
       "      <th>corr_value</th>\n",
       "    </tr>\n",
       "  </thead>\n",
       "  <tbody>\n",
       "    <tr>\n",
       "      <th>0</th>\n",
       "      <td>mean</td>\n",
       "      <td>sum</td>\n",
       "      <td>1.000000</td>\n",
       "    </tr>\n",
       "    <tr>\n",
       "      <th>1</th>\n",
       "      <td>skew</td>\n",
       "      <td>sum</td>\n",
       "      <td>0.980183</td>\n",
       "    </tr>\n",
       "    <tr>\n",
       "      <th>2</th>\n",
       "      <td>skew</td>\n",
       "      <td>mean</td>\n",
       "      <td>0.980183</td>\n",
       "    </tr>\n",
       "  </tbody>\n",
       "</table>\n",
       "</div>"
      ],
      "text/plain": [
       "  drop_feature corr_feature  corr_value\n",
       "0         mean          sum    1.000000\n",
       "1         skew          sum    0.980183\n",
       "2         skew         mean    0.980183"
      ]
     },
     "execution_count": 32,
     "metadata": {},
     "output_type": "execute_result"
    }
   ],
   "source": [
    "# list of collinear features to remove\n",
    "collinear_features = fs.ops['collinear']\n",
    "# dataframe of collinear features\n",
    "fs.record_collinear.head()"
   ]
  },
  {
   "cell_type": "code",
   "execution_count": 33,
   "metadata": {},
   "outputs": [
    {
     "name": "stdout",
     "output_type": "stream",
     "text": [
      "Training Gradient Boosting Model\n",
      "\n",
      "Training until validation scores don't improve for 100 rounds.\n",
      "Did not meet early stopping. Best iteration is:\n",
      "[1000]\tvalid_0's auc: 0.978243\tvalid_0's binary_logloss: 0.201214\n",
      "Training until validation scores don't improve for 100 rounds.\n",
      "Did not meet early stopping. Best iteration is:\n",
      "[1000]\tvalid_0's auc: 0.978212\tvalid_0's binary_logloss: 0.200399\n",
      "Training until validation scores don't improve for 100 rounds.\n",
      "Did not meet early stopping. Best iteration is:\n",
      "[1000]\tvalid_0's auc: 0.977977\tvalid_0's binary_logloss: 0.202079\n",
      "Training until validation scores don't improve for 100 rounds.\n",
      "Did not meet early stopping. Best iteration is:\n",
      "[1000]\tvalid_0's auc: 0.977625\tvalid_0's binary_logloss: 0.202709\n",
      "Training until validation scores don't improve for 100 rounds.\n",
      "Did not meet early stopping. Best iteration is:\n",
      "[1000]\tvalid_0's auc: 0.978247\tvalid_0's binary_logloss: 0.201576\n",
      "Training until validation scores don't improve for 100 rounds.\n",
      "Did not meet early stopping. Best iteration is:\n",
      "[1000]\tvalid_0's auc: 0.977476\tvalid_0's binary_logloss: 0.203451\n",
      "Training until validation scores don't improve for 100 rounds.\n",
      "Did not meet early stopping. Best iteration is:\n",
      "[1000]\tvalid_0's auc: 0.978218\tvalid_0's binary_logloss: 0.20112\n",
      "Training until validation scores don't improve for 100 rounds.\n",
      "Did not meet early stopping. Best iteration is:\n",
      "[1000]\tvalid_0's auc: 0.978576\tvalid_0's binary_logloss: 0.200494\n",
      "Training until validation scores don't improve for 100 rounds.\n",
      "Did not meet early stopping. Best iteration is:\n",
      "[1000]\tvalid_0's auc: 0.978207\tvalid_0's binary_logloss: 0.200704\n",
      "Training until validation scores don't improve for 100 rounds.\n",
      "Did not meet early stopping. Best iteration is:\n",
      "[1000]\tvalid_0's auc: 0.978162\tvalid_0's binary_logloss: 0.201522\n",
      "\n",
      "1 features with zero importance after one-hot encoding.\n",
      "\n"
     ]
    }
   ],
   "source": [
    "# Pass in the appropriate parameters\n",
    "fs.identify_zero_importance(task = 'classification', \n",
    "                            eval_metric = 'auc', \n",
    "                            n_iterations = 10, \n",
    "                             early_stopping = True)\n",
    "# list of zero importance features\n",
    "zero_importance_features = fs.ops['zero_importance']"
   ]
  },
  {
   "cell_type": "code",
   "execution_count": 34,
   "metadata": {},
   "outputs": [
    {
     "data": {
      "image/png": "[encoded data removed]",
      "text/plain": [
       "<Figure size 1000x600 with 1 Axes>"
      ]
     },
     "metadata": {},
     "output_type": "display_data"
    },
    {
     "data": {
      "image/png": "[encoded data removed]",
      "text/plain": [
       "<Figure size 600x400 with 1 Axes>"
      ]
     },
     "metadata": {},
     "output_type": "display_data"
    },
    {
     "name": "stdout",
     "output_type": "stream",
     "text": [
      "201 features required for 0.99 of cumulative importance\n"
     ]
    }
   ],
   "source": [
    "# plot the feature importances\n",
    "fs.plot_feature_importances(threshold = 0.99, plot_n = 12)"
   ]
  },
  {
   "cell_type": "code",
   "execution_count": 35,
   "metadata": {},
   "outputs": [
    {
     "data": {
      "text/plain": [
       "(359804, 208)"
      ]
     },
     "execution_count": 35,
     "metadata": {},
     "output_type": "execute_result"
    }
   ],
   "source": [
    "x_train_sm.shape"
   ]
  },
  {
   "cell_type": "code",
   "execution_count": 36,
   "metadata": {},
   "outputs": [
    {
     "name": "stdout",
     "output_type": "stream",
     "text": [
      "200 features required for cumulative importance of 0.99 after one hot encoding.\n",
      "8 features do not contribute to cumulative importance of 0.99.\n",
      "\n"
     ]
    }
   ],
   "source": [
    "fs.identify_low_importance(cumulative_importance = 0.99)"
   ]
  },
  {
   "cell_type": "code",
   "execution_count": 37,
   "metadata": {},
   "outputs": [
    {
     "data": {
      "text/html": [
       "<div>\n",
       "<style scoped>\n",
       "    .dataframe tbody tr th:only-of-type {\n",
       "        vertical-align: middle;\n",
       "    }\n",
       "\n",
       "    .dataframe tbody tr th {\n",
       "        vertical-align: top;\n",
       "    }\n",
       "\n",
       "    .dataframe thead th {\n",
       "        text-align: right;\n",
       "    }\n",
       "</style>\n",
       "<table border=\"1\" class=\"dataframe\">\n",
       "  <thead>\n",
       "    <tr style=\"text-align: right;\">\n",
       "      <th></th>\n",
       "      <th>feature</th>\n",
       "      <th>importance</th>\n",
       "      <th>normalized_importance</th>\n",
       "      <th>cumulative_importance</th>\n",
       "    </tr>\n",
       "  </thead>\n",
       "  <tbody>\n",
       "    <tr>\n",
       "      <th>0</th>\n",
       "      <td>std</td>\n",
       "      <td>621.4</td>\n",
       "      <td>0.020713</td>\n",
       "      <td>0.020713</td>\n",
       "    </tr>\n",
       "    <tr>\n",
       "      <th>1</th>\n",
       "      <td>kurt</td>\n",
       "      <td>474.5</td>\n",
       "      <td>0.015817</td>\n",
       "      <td>0.036530</td>\n",
       "    </tr>\n",
       "    <tr>\n",
       "      <th>2</th>\n",
       "      <td>var_53</td>\n",
       "      <td>288.0</td>\n",
       "      <td>0.009600</td>\n",
       "      <td>0.046130</td>\n",
       "    </tr>\n",
       "    <tr>\n",
       "      <th>3</th>\n",
       "      <td>var_12</td>\n",
       "      <td>265.6</td>\n",
       "      <td>0.008853</td>\n",
       "      <td>0.054983</td>\n",
       "    </tr>\n",
       "    <tr>\n",
       "      <th>4</th>\n",
       "      <td>var_174</td>\n",
       "      <td>260.8</td>\n",
       "      <td>0.008693</td>\n",
       "      <td>0.063677</td>\n",
       "    </tr>\n",
       "    <tr>\n",
       "      <th>5</th>\n",
       "      <td>var_139</td>\n",
       "      <td>260.0</td>\n",
       "      <td>0.008667</td>\n",
       "      <td>0.072343</td>\n",
       "    </tr>\n",
       "    <tr>\n",
       "      <th>6</th>\n",
       "      <td>var_6</td>\n",
       "      <td>256.7</td>\n",
       "      <td>0.008557</td>\n",
       "      <td>0.080900</td>\n",
       "    </tr>\n",
       "    <tr>\n",
       "      <th>7</th>\n",
       "      <td>var_22</td>\n",
       "      <td>249.4</td>\n",
       "      <td>0.008313</td>\n",
       "      <td>0.089213</td>\n",
       "    </tr>\n",
       "    <tr>\n",
       "      <th>8</th>\n",
       "      <td>var_76</td>\n",
       "      <td>243.8</td>\n",
       "      <td>0.008127</td>\n",
       "      <td>0.097340</td>\n",
       "    </tr>\n",
       "    <tr>\n",
       "      <th>9</th>\n",
       "      <td>var_133</td>\n",
       "      <td>242.2</td>\n",
       "      <td>0.008073</td>\n",
       "      <td>0.105413</td>\n",
       "    </tr>\n",
       "  </tbody>\n",
       "</table>\n",
       "</div>"
      ],
      "text/plain": [
       "   feature  importance  normalized_importance  cumulative_importance\n",
       "0      std       621.4               0.020713               0.020713\n",
       "1     kurt       474.5               0.015817               0.036530\n",
       "2   var_53       288.0               0.009600               0.046130\n",
       "3   var_12       265.6               0.008853               0.054983\n",
       "4  var_174       260.8               0.008693               0.063677\n",
       "5  var_139       260.0               0.008667               0.072343\n",
       "6    var_6       256.7               0.008557               0.080900\n",
       "7   var_22       249.4               0.008313               0.089213\n",
       "8   var_76       243.8               0.008127               0.097340\n",
       "9  var_133       242.2               0.008073               0.105413"
      ]
     },
     "execution_count": 37,
     "metadata": {},
     "output_type": "execute_result"
    }
   ],
   "source": [
    "fs.feature_importances.head(10)"
   ]
  },
  {
   "cell_type": "code",
   "execution_count": 38,
   "metadata": {},
   "outputs": [
    {
     "data": {
      "text/html": [
       "<div>\n",
       "<style scoped>\n",
       "    .dataframe tbody tr th:only-of-type {\n",
       "        vertical-align: middle;\n",
       "    }\n",
       "\n",
       "    .dataframe tbody tr th {\n",
       "        vertical-align: top;\n",
       "    }\n",
       "\n",
       "    .dataframe thead th {\n",
       "        text-align: right;\n",
       "    }\n",
       "</style>\n",
       "<table border=\"1\" class=\"dataframe\">\n",
       "  <thead>\n",
       "    <tr style=\"text-align: right;\">\n",
       "      <th></th>\n",
       "      <th>feature</th>\n",
       "      <th>importance</th>\n",
       "      <th>normalized_importance</th>\n",
       "      <th>cumulative_importance</th>\n",
       "    </tr>\n",
       "  </thead>\n",
       "  <tbody>\n",
       "    <tr>\n",
       "      <th>198</th>\n",
       "      <td>var_4</td>\n",
       "      <td>67.5</td>\n",
       "      <td>0.002250</td>\n",
       "      <td>0.986503</td>\n",
       "    </tr>\n",
       "    <tr>\n",
       "      <th>199</th>\n",
       "      <td>var_68</td>\n",
       "      <td>66.4</td>\n",
       "      <td>0.002213</td>\n",
       "      <td>0.988717</td>\n",
       "    </tr>\n",
       "    <tr>\n",
       "      <th>200</th>\n",
       "      <td>var_152</td>\n",
       "      <td>63.9</td>\n",
       "      <td>0.002130</td>\n",
       "      <td>0.990847</td>\n",
       "    </tr>\n",
       "    <tr>\n",
       "      <th>201</th>\n",
       "      <td>var_16</td>\n",
       "      <td>62.5</td>\n",
       "      <td>0.002083</td>\n",
       "      <td>0.992930</td>\n",
       "    </tr>\n",
       "    <tr>\n",
       "      <th>202</th>\n",
       "      <td>var_98</td>\n",
       "      <td>59.0</td>\n",
       "      <td>0.001967</td>\n",
       "      <td>0.994897</td>\n",
       "    </tr>\n",
       "    <tr>\n",
       "      <th>203</th>\n",
       "      <td>var_60</td>\n",
       "      <td>57.7</td>\n",
       "      <td>0.001923</td>\n",
       "      <td>0.996820</td>\n",
       "    </tr>\n",
       "    <tr>\n",
       "      <th>204</th>\n",
       "      <td>var_69</td>\n",
       "      <td>51.5</td>\n",
       "      <td>0.001717</td>\n",
       "      <td>0.998537</td>\n",
       "    </tr>\n",
       "    <tr>\n",
       "      <th>205</th>\n",
       "      <td>sum</td>\n",
       "      <td>36.1</td>\n",
       "      <td>0.001203</td>\n",
       "      <td>0.999740</td>\n",
       "    </tr>\n",
       "    <tr>\n",
       "      <th>206</th>\n",
       "      <td>med</td>\n",
       "      <td>7.8</td>\n",
       "      <td>0.000260</td>\n",
       "      <td>1.000000</td>\n",
       "    </tr>\n",
       "    <tr>\n",
       "      <th>207</th>\n",
       "      <td>mean</td>\n",
       "      <td>0.0</td>\n",
       "      <td>0.000000</td>\n",
       "      <td>1.000000</td>\n",
       "    </tr>\n",
       "  </tbody>\n",
       "</table>\n",
       "</div>"
      ],
      "text/plain": [
       "     feature  importance  normalized_importance  cumulative_importance\n",
       "198    var_4        67.5               0.002250               0.986503\n",
       "199   var_68        66.4               0.002213               0.988717\n",
       "200  var_152        63.9               0.002130               0.990847\n",
       "201   var_16        62.5               0.002083               0.992930\n",
       "202   var_98        59.0               0.001967               0.994897\n",
       "203   var_60        57.7               0.001923               0.996820\n",
       "204   var_69        51.5               0.001717               0.998537\n",
       "205      sum        36.1               0.001203               0.999740\n",
       "206      med         7.8               0.000260               1.000000\n",
       "207     mean         0.0               0.000000               1.000000"
      ]
     },
     "execution_count": 38,
     "metadata": {},
     "output_type": "execute_result"
    }
   ],
   "source": [
    "fs.feature_importances.tail(10)"
   ]
  },
  {
   "cell_type": "code",
   "execution_count": 39,
   "metadata": {},
   "outputs": [
    {
     "name": "stdout",
     "output_type": "stream",
     "text": [
      "0 features with a single unique value.\n",
      "\n"
     ]
    }
   ],
   "source": [
    "fs.identify_single_unique()"
   ]
  },
  {
   "cell_type": "code",
   "execution_count": 40,
   "metadata": {},
   "outputs": [
    {
     "data": {
      "image/png": "[encoded data removed]",
      "text/plain": [
       "<Figure size 700x500 with 1 Axes>"
      ]
     },
     "metadata": {},
     "output_type": "display_data"
    }
   ],
   "source": [
    "fs.plot_unique()"
   ]
  },
  {
   "cell_type": "code",
   "execution_count": 41,
   "metadata": {},
   "outputs": [
    {
     "name": "stdout",
     "output_type": "stream",
     "text": [
      "['missing', 'collinear', 'zero_importance', 'low_importance', 'single_unique'] methods have been run\n",
      "\n",
      "Removed 9 features.\n"
     ]
    }
   ],
   "source": [
    "# Remove the features from all methods (returns a df)\n",
    "train_removed = fs.remove(methods = 'all')"
   ]
  },
  {
   "cell_type": "code",
   "execution_count": 42,
   "metadata": {},
   "outputs": [
    {
     "name": "stdout",
     "output_type": "stream",
     "text": [
      "['missing', 'collinear', 'zero_importance', 'low_importance', 'single_unique'] methods have been run\n",
      "\n",
      "Removed 9 features including one-hot features.\n"
     ]
    }
   ],
   "source": [
    "train_new = fs.remove(methods = 'all', keep_one_hot=False)"
   ]
  },
  {
   "cell_type": "code",
   "execution_count": 43,
   "metadata": {
    "scrolled": true
   },
   "outputs": [
    {
     "data": {
      "text/html": [
       "<div>\n",
       "<style scoped>\n",
       "    .dataframe tbody tr th:only-of-type {\n",
       "        vertical-align: middle;\n",
       "    }\n",
       "\n",
       "    .dataframe tbody tr th {\n",
       "        vertical-align: top;\n",
       "    }\n",
       "\n",
       "    .dataframe thead th {\n",
       "        text-align: right;\n",
       "    }\n",
       "</style>\n",
       "<table border=\"1\" class=\"dataframe\">\n",
       "  <thead>\n",
       "    <tr style=\"text-align: right;\">\n",
       "      <th></th>\n",
       "      <th>var_0</th>\n",
       "      <th>var_1</th>\n",
       "      <th>var_2</th>\n",
       "      <th>var_3</th>\n",
       "      <th>var_4</th>\n",
       "      <th>var_5</th>\n",
       "      <th>var_6</th>\n",
       "      <th>var_7</th>\n",
       "      <th>var_8</th>\n",
       "      <th>var_9</th>\n",
       "      <th>...</th>\n",
       "      <th>var_194</th>\n",
       "      <th>var_195</th>\n",
       "      <th>var_196</th>\n",
       "      <th>var_197</th>\n",
       "      <th>var_198</th>\n",
       "      <th>var_199</th>\n",
       "      <th>std</th>\n",
       "      <th>min</th>\n",
       "      <th>max</th>\n",
       "      <th>kurt</th>\n",
       "    </tr>\n",
       "  </thead>\n",
       "  <tbody>\n",
       "    <tr>\n",
       "      <th>0</th>\n",
       "      <td>-0.577102</td>\n",
       "      <td>-1.273737</td>\n",
       "      <td>0.451707</td>\n",
       "      <td>-0.833709</td>\n",
       "      <td>0.235571</td>\n",
       "      <td>-0.536430</td>\n",
       "      <td>-0.334926</td>\n",
       "      <td>0.608751</td>\n",
       "      <td>-1.561580</td>\n",
       "      <td>-1.473796</td>\n",
       "      <td>...</td>\n",
       "      <td>0.168705</td>\n",
       "      <td>-1.578117</td>\n",
       "      <td>1.022131</td>\n",
       "      <td>-0.373968</td>\n",
       "      <td>-1.026398</td>\n",
       "      <td>0.214135</td>\n",
       "      <td>0.966269</td>\n",
       "      <td>-1.933508</td>\n",
       "      <td>2.285292</td>\n",
       "      <td>-0.675318</td>\n",
       "    </tr>\n",
       "    <tr>\n",
       "      <th>1</th>\n",
       "      <td>0.269959</td>\n",
       "      <td>-0.622138</td>\n",
       "      <td>1.190360</td>\n",
       "      <td>-0.688846</td>\n",
       "      <td>0.790975</td>\n",
       "      <td>1.539900</td>\n",
       "      <td>0.244461</td>\n",
       "      <td>-0.003525</td>\n",
       "      <td>0.858974</td>\n",
       "      <td>0.419300</td>\n",
       "      <td>...</td>\n",
       "      <td>-0.817594</td>\n",
       "      <td>1.522342</td>\n",
       "      <td>1.067654</td>\n",
       "      <td>-0.129400</td>\n",
       "      <td>0.825417</td>\n",
       "      <td>0.505685</td>\n",
       "      <td>1.547785</td>\n",
       "      <td>-2.478500</td>\n",
       "      <td>16.275490</td>\n",
       "      <td>43.273609</td>\n",
       "    </tr>\n",
       "    <tr>\n",
       "      <th>2</th>\n",
       "      <td>-0.681113</td>\n",
       "      <td>-0.276066</td>\n",
       "      <td>0.516988</td>\n",
       "      <td>0.536516</td>\n",
       "      <td>-0.305477</td>\n",
       "      <td>-0.511033</td>\n",
       "      <td>1.769839</td>\n",
       "      <td>-0.564749</td>\n",
       "      <td>-1.561370</td>\n",
       "      <td>-1.307408</td>\n",
       "      <td>...</td>\n",
       "      <td>1.151591</td>\n",
       "      <td>2.297370</td>\n",
       "      <td>-1.617906</td>\n",
       "      <td>-0.695141</td>\n",
       "      <td>-0.381449</td>\n",
       "      <td>0.356681</td>\n",
       "      <td>1.524995</td>\n",
       "      <td>-17.679884</td>\n",
       "      <td>2.297370</td>\n",
       "      <td>54.425440</td>\n",
       "    </tr>\n",
       "    <tr>\n",
       "      <th>3</th>\n",
       "      <td>0.125158</td>\n",
       "      <td>-0.129426</td>\n",
       "      <td>-0.667575</td>\n",
       "      <td>0.195355</td>\n",
       "      <td>0.927992</td>\n",
       "      <td>0.410672</td>\n",
       "      <td>0.500633</td>\n",
       "      <td>-0.474201</td>\n",
       "      <td>-1.843910</td>\n",
       "      <td>0.548767</td>\n",
       "      <td>...</td>\n",
       "      <td>1.607869</td>\n",
       "      <td>-0.789517</td>\n",
       "      <td>-0.959020</td>\n",
       "      <td>1.501744</td>\n",
       "      <td>0.697118</td>\n",
       "      <td>-0.543502</td>\n",
       "      <td>1.059275</td>\n",
       "      <td>-4.313151</td>\n",
       "      <td>2.455127</td>\n",
       "      <td>0.950488</td>\n",
       "    </tr>\n",
       "    <tr>\n",
       "      <th>4</th>\n",
       "      <td>-0.277303</td>\n",
       "      <td>0.035610</td>\n",
       "      <td>0.817683</td>\n",
       "      <td>-0.077829</td>\n",
       "      <td>0.738607</td>\n",
       "      <td>0.955574</td>\n",
       "      <td>0.613372</td>\n",
       "      <td>0.791544</td>\n",
       "      <td>1.794753</td>\n",
       "      <td>0.090006</td>\n",
       "      <td>...</td>\n",
       "      <td>-1.501101</td>\n",
       "      <td>-0.958473</td>\n",
       "      <td>0.297627</td>\n",
       "      <td>0.645537</td>\n",
       "      <td>0.706318</td>\n",
       "      <td>-0.525375</td>\n",
       "      <td>1.283040</td>\n",
       "      <td>-2.466105</td>\n",
       "      <td>11.632315</td>\n",
       "      <td>28.306071</td>\n",
       "    </tr>\n",
       "  </tbody>\n",
       "</table>\n",
       "<p>5 rows × 199 columns</p>\n",
       "</div>"
      ],
      "text/plain": [
       "      var_0     var_1     var_2     var_3     var_4     var_5     var_6  \\\n",
       "0 -0.577102 -1.273737  0.451707 -0.833709  0.235571 -0.536430 -0.334926   \n",
       "1  0.269959 -0.622138  1.190360 -0.688846  0.790975  1.539900  0.244461   \n",
       "2 -0.681113 -0.276066  0.516988  0.536516 -0.305477 -0.511033  1.769839   \n",
       "3  0.125158 -0.129426 -0.667575  0.195355  0.927992  0.410672  0.500633   \n",
       "4 -0.277303  0.035610  0.817683 -0.077829  0.738607  0.955574  0.613372   \n",
       "\n",
       "      var_7     var_8     var_9    ...       var_194   var_195   var_196  \\\n",
       "0  0.608751 -1.561580 -1.473796    ...      0.168705 -1.578117  1.022131   \n",
       "1 -0.003525  0.858974  0.419300    ...     -0.817594  1.522342  1.067654   \n",
       "2 -0.564749 -1.561370 -1.307408    ...      1.151591  2.297370 -1.617906   \n",
       "3 -0.474201 -1.843910  0.548767    ...      1.607869 -0.789517 -0.959020   \n",
       "4  0.791544  1.794753  0.090006    ...     -1.501101 -0.958473  0.297627   \n",
       "\n",
       "    var_197   var_198   var_199       std        min        max       kurt  \n",
       "0 -0.373968 -1.026398  0.214135  0.966269  -1.933508   2.285292  -0.675318  \n",
       "1 -0.129400  0.825417  0.505685  1.547785  -2.478500  16.275490  43.273609  \n",
       "2 -0.695141 -0.381449  0.356681  1.524995 -17.679884   2.297370  54.425440  \n",
       "3  1.501744  0.697118 -0.543502  1.059275  -4.313151   2.455127   0.950488  \n",
       "4  0.645537  0.706318 -0.525375  1.283040  -2.466105  11.632315  28.306071  \n",
       "\n",
       "[5 rows x 199 columns]"
      ]
     },
     "execution_count": 43,
     "metadata": {},
     "output_type": "execute_result"
    }
   ],
   "source": [
    "train_new.head()"
   ]
  },
  {
   "cell_type": "code",
   "execution_count": 63,
   "metadata": {},
   "outputs": [
    {
     "data": {
      "text/plain": [
       "array(['var_0', 'var_1', 'var_2', 'var_3', 'var_4', 'var_5', 'var_6', 'var_7',\n",
       "       'var_8', 'var_9', 'var_10', 'var_11', 'var_12', 'var_13', 'var_14',\n",
       "       'var_15', 'var_17', 'var_18', 'var_19', 'var_20', 'var_21', 'var_22',\n",
       "       'var_23', 'var_24', 'var_25', 'var_26', 'var_27', 'var_28', 'var_29',\n",
       "       'var_30', 'var_31', 'var_32', 'var_33', 'var_34', 'var_35', 'var_36',\n",
       "       'var_37', 'var_38', 'var_39', 'var_40', 'var_41', 'var_42', 'var_43',\n",
       "       'var_44', 'var_45', 'var_46', 'var_47', 'var_48', 'var_49', 'var_50',\n",
       "       'var_51', 'var_52', 'var_53', 'var_54', 'var_55', 'var_56', 'var_57',\n",
       "       'var_58', 'var_59', 'var_61', 'var_62', 'var_63', 'var_64', 'var_65',\n",
       "       'var_66', 'var_67', 'var_68', 'var_70', 'var_71', 'var_72', 'var_73',\n",
       "       'var_74', 'var_75', 'var_76', 'var_77', 'var_78', 'var_79', 'var_80',\n",
       "       'var_81', 'var_82', 'var_83', 'var_84', 'var_85', 'var_86', 'var_87',\n",
       "       'var_88', 'var_89', 'var_90', 'var_91', 'var_92', 'var_93', 'var_94',\n",
       "       'var_95', 'var_96', 'var_97', 'var_99', 'var_100', 'var_101', 'var_102',\n",
       "       'var_103', 'var_104', 'var_105', 'var_106', 'var_107', 'var_108',\n",
       "       'var_109', 'var_110', 'var_111', 'var_112', 'var_113', 'var_114',\n",
       "       'var_115', 'var_116', 'var_117', 'var_118', 'var_119', 'var_120',\n",
       "       'var_121', 'var_122', 'var_123', 'var_124', 'var_125', 'var_126',\n",
       "       'var_127', 'var_128', 'var_129', 'var_130', 'var_131', 'var_132',\n",
       "       'var_133', 'var_134', 'var_135', 'var_136', 'var_137', 'var_138',\n",
       "       'var_139', 'var_140', 'var_141', 'var_142', 'var_143', 'var_144',\n",
       "       'var_145', 'var_146', 'var_147', 'var_148', 'var_149', 'var_150',\n",
       "       'var_151', 'var_153', 'var_154', 'var_155', 'var_156', 'var_157',\n",
       "       'var_158', 'var_159', 'var_160', 'var_161', 'var_162', 'var_163',\n",
       "       'var_164', 'var_165', 'var_166', 'var_167', 'var_168', 'var_169',\n",
       "       'var_170', 'var_171', 'var_172', 'var_173', 'var_174', 'var_175',\n",
       "       'var_176', 'var_177', 'var_178', 'var_179', 'var_180', 'var_181',\n",
       "       'var_182', 'var_183', 'var_184', 'var_185', 'var_186', 'var_187',\n",
       "       'var_188', 'var_189', 'var_190', 'var_191', 'var_192', 'var_193',\n",
       "       'var_194', 'var_195', 'var_196', 'var_197', 'var_198', 'var_199', 'std',\n",
       "       'min', 'max', 'kurt'], dtype=object)"
      ]
     },
     "execution_count": 63,
     "metadata": {},
     "output_type": "execute_result"
    }
   ],
   "source": [
    "train_new.columns.values"
   ]
  },
  {
   "cell_type": "markdown",
   "metadata": {},
   "source": [
    "#fs.identify_all(selection_params = {'missing_threshold': 0.6,    \n",
    "                                    'correlation_threshold': 0.98, \n",
    "                                    'task': 'classification',    \n",
    "                                    'eval_metric': 'auc', \n",
    "                                    'cumulative_importance': 0.99})"
   ]
  },
  {
   "cell_type": "code",
   "execution_count": 65,
   "metadata": {},
   "outputs": [
    {
     "data": {
      "text/html": [
       "<div>\n",
       "<style scoped>\n",
       "    .dataframe tbody tr th:only-of-type {\n",
       "        vertical-align: middle;\n",
       "    }\n",
       "\n",
       "    .dataframe tbody tr th {\n",
       "        vertical-align: top;\n",
       "    }\n",
       "\n",
       "    .dataframe thead th {\n",
       "        text-align: right;\n",
       "    }\n",
       "</style>\n",
       "<table border=\"1\" class=\"dataframe\">\n",
       "  <thead>\n",
       "    <tr style=\"text-align: right;\">\n",
       "      <th></th>\n",
       "      <th>var_0</th>\n",
       "      <th>var_1</th>\n",
       "      <th>var_2</th>\n",
       "      <th>var_3</th>\n",
       "      <th>var_4</th>\n",
       "      <th>var_5</th>\n",
       "      <th>var_6</th>\n",
       "      <th>var_7</th>\n",
       "      <th>var_8</th>\n",
       "      <th>var_9</th>\n",
       "      <th>...</th>\n",
       "      <th>var_198</th>\n",
       "      <th>var_199</th>\n",
       "      <th>sum</th>\n",
       "      <th>mean</th>\n",
       "      <th>std</th>\n",
       "      <th>min</th>\n",
       "      <th>max</th>\n",
       "      <th>skew</th>\n",
       "      <th>kurt</th>\n",
       "      <th>med</th>\n",
       "    </tr>\n",
       "  </thead>\n",
       "  <tbody>\n",
       "    <tr>\n",
       "      <th>0</th>\n",
       "      <td>-0.577102</td>\n",
       "      <td>-1.273737</td>\n",
       "      <td>0.451707</td>\n",
       "      <td>-0.833709</td>\n",
       "      <td>0.235571</td>\n",
       "      <td>-0.536430</td>\n",
       "      <td>-0.334926</td>\n",
       "      <td>0.608751</td>\n",
       "      <td>-1.561580</td>\n",
       "      <td>-1.473796</td>\n",
       "      <td>...</td>\n",
       "      <td>-1.026398</td>\n",
       "      <td>0.214135</td>\n",
       "      <td>0.921360</td>\n",
       "      <td>0.009168</td>\n",
       "      <td>0.966269</td>\n",
       "      <td>-1.933508</td>\n",
       "      <td>2.285292</td>\n",
       "      <td>0.086401</td>\n",
       "      <td>-0.675318</td>\n",
       "      <td>-0.009778</td>\n",
       "    </tr>\n",
       "    <tr>\n",
       "      <th>1</th>\n",
       "      <td>0.269959</td>\n",
       "      <td>-0.622138</td>\n",
       "      <td>1.190360</td>\n",
       "      <td>-0.688846</td>\n",
       "      <td>0.790975</td>\n",
       "      <td>1.539900</td>\n",
       "      <td>0.244461</td>\n",
       "      <td>-0.003525</td>\n",
       "      <td>0.858974</td>\n",
       "      <td>0.419300</td>\n",
       "      <td>...</td>\n",
       "      <td>0.825417</td>\n",
       "      <td>0.505685</td>\n",
       "      <td>16.275490</td>\n",
       "      <td>0.161945</td>\n",
       "      <td>1.547785</td>\n",
       "      <td>-2.478500</td>\n",
       "      <td>16.275490</td>\n",
       "      <td>5.719200</td>\n",
       "      <td>43.273609</td>\n",
       "      <td>0.146206</td>\n",
       "    </tr>\n",
       "    <tr>\n",
       "      <th>2</th>\n",
       "      <td>-0.681113</td>\n",
       "      <td>-0.276066</td>\n",
       "      <td>0.516988</td>\n",
       "      <td>0.536516</td>\n",
       "      <td>-0.305477</td>\n",
       "      <td>-0.511033</td>\n",
       "      <td>1.769839</td>\n",
       "      <td>-0.564749</td>\n",
       "      <td>-1.561370</td>\n",
       "      <td>-1.307408</td>\n",
       "      <td>...</td>\n",
       "      <td>-0.381449</td>\n",
       "      <td>0.356681</td>\n",
       "      <td>-17.679884</td>\n",
       "      <td>-0.175919</td>\n",
       "      <td>1.524995</td>\n",
       "      <td>-17.679884</td>\n",
       "      <td>2.297370</td>\n",
       "      <td>-6.929393</td>\n",
       "      <td>54.425440</td>\n",
       "      <td>-0.075314</td>\n",
       "    </tr>\n",
       "    <tr>\n",
       "      <th>3</th>\n",
       "      <td>0.125158</td>\n",
       "      <td>-0.129426</td>\n",
       "      <td>-0.667575</td>\n",
       "      <td>0.195355</td>\n",
       "      <td>0.927992</td>\n",
       "      <td>0.410672</td>\n",
       "      <td>0.500633</td>\n",
       "      <td>-0.474201</td>\n",
       "      <td>-1.843910</td>\n",
       "      <td>0.548767</td>\n",
       "      <td>...</td>\n",
       "      <td>0.697118</td>\n",
       "      <td>-0.543502</td>\n",
       "      <td>-4.313151</td>\n",
       "      <td>-0.042917</td>\n",
       "      <td>1.059275</td>\n",
       "      <td>-4.313151</td>\n",
       "      <td>2.455127</td>\n",
       "      <td>-0.453156</td>\n",
       "      <td>0.950488</td>\n",
       "      <td>0.022063</td>\n",
       "    </tr>\n",
       "    <tr>\n",
       "      <th>4</th>\n",
       "      <td>-0.277303</td>\n",
       "      <td>0.035610</td>\n",
       "      <td>0.817683</td>\n",
       "      <td>-0.077829</td>\n",
       "      <td>0.738607</td>\n",
       "      <td>0.955574</td>\n",
       "      <td>0.613372</td>\n",
       "      <td>0.791544</td>\n",
       "      <td>1.794753</td>\n",
       "      <td>0.090006</td>\n",
       "      <td>...</td>\n",
       "      <td>0.706318</td>\n",
       "      <td>-0.525375</td>\n",
       "      <td>11.632315</td>\n",
       "      <td>0.115744</td>\n",
       "      <td>1.283040</td>\n",
       "      <td>-2.466105</td>\n",
       "      <td>11.632315</td>\n",
       "      <td>4.125224</td>\n",
       "      <td>28.306071</td>\n",
       "      <td>0.072839</td>\n",
       "    </tr>\n",
       "  </tbody>\n",
       "</table>\n",
       "<p>5 rows × 208 columns</p>\n",
       "</div>"
      ],
      "text/plain": [
       "      var_0     var_1     var_2     var_3     var_4     var_5     var_6  \\\n",
       "0 -0.577102 -1.273737  0.451707 -0.833709  0.235571 -0.536430 -0.334926   \n",
       "1  0.269959 -0.622138  1.190360 -0.688846  0.790975  1.539900  0.244461   \n",
       "2 -0.681113 -0.276066  0.516988  0.536516 -0.305477 -0.511033  1.769839   \n",
       "3  0.125158 -0.129426 -0.667575  0.195355  0.927992  0.410672  0.500633   \n",
       "4 -0.277303  0.035610  0.817683 -0.077829  0.738607  0.955574  0.613372   \n",
       "\n",
       "      var_7     var_8     var_9    ...      var_198   var_199        sum  \\\n",
       "0  0.608751 -1.561580 -1.473796    ...    -1.026398  0.214135   0.921360   \n",
       "1 -0.003525  0.858974  0.419300    ...     0.825417  0.505685  16.275490   \n",
       "2 -0.564749 -1.561370 -1.307408    ...    -0.381449  0.356681 -17.679884   \n",
       "3 -0.474201 -1.843910  0.548767    ...     0.697118 -0.543502  -4.313151   \n",
       "4  0.791544  1.794753  0.090006    ...     0.706318 -0.525375  11.632315   \n",
       "\n",
       "       mean       std        min        max      skew       kurt       med  \n",
       "0  0.009168  0.966269  -1.933508   2.285292  0.086401  -0.675318 -0.009778  \n",
       "1  0.161945  1.547785  -2.478500  16.275490  5.719200  43.273609  0.146206  \n",
       "2 -0.175919  1.524995 -17.679884   2.297370 -6.929393  54.425440 -0.075314  \n",
       "3 -0.042917  1.059275  -4.313151   2.455127 -0.453156   0.950488  0.022063  \n",
       "4  0.115744  1.283040  -2.466105  11.632315  4.125224  28.306071  0.072839  \n",
       "\n",
       "[5 rows x 208 columns]"
      ]
     },
     "execution_count": 65,
     "metadata": {},
     "output_type": "execute_result"
    }
   ],
   "source": [
    "x_train_sm.head()"
   ]
  },
  {
   "cell_type": "code",
   "execution_count": 50,
   "metadata": {},
   "outputs": [],
   "source": [
    "from sklearn.model_selection import train_test_split\n",
    "X_train, X_test, y_train, y_test = train_test_split(train_new,y_train_sm,test_size=0.3, random_state=0)"
   ]
  },
  {
   "cell_type": "code",
   "execution_count": 51,
   "metadata": {},
   "outputs": [
    {
     "name": "stdout",
     "output_type": "stream",
     "text": [
      "Iteration 1, loss = 0.41357367\n"
     ]
    },
    {
     "name": "stderr",
     "output_type": "stream",
     "text": [
      "C:\\Users\\Yanhong Simokat\\Ananconda27\\envs\\py36\\lib\\site-packages\\sklearn\\neural_network\\multilayer_perceptron.py:562: ConvergenceWarning: Stochastic Optimizer: Maximum iterations (1) reached and the optimization hasn't converged yet.\n",
      "  % self.max_iter, ConvergenceWarning)\n"
     ]
    }
   ],
   "source": [
    "from sklearn.neural_network import MLPClassifier\n",
    "MLP = MLPClassifier(hidden_layer_sizes=(5,3,2),\n",
    "                     max_iter=1, \n",
    "                     activation='relu', \n",
    "                     learning_rate='constant',\n",
    "                     learning_rate_init=0.001,\n",
    "                     batch_size = 1,\n",
    "                     solver='adam',\n",
    "                     verbose =1)\n",
    "MLP.fit(X_train, y_train)\n",
    "y_pred = MLP.predict(X_test)"
   ]
  },
  {
   "cell_type": "code",
   "execution_count": 52,
   "metadata": {},
   "outputs": [
    {
     "data": {
      "text/plain": [
       "0.8410344985714582"
      ]
     },
     "execution_count": 52,
     "metadata": {},
     "output_type": "execute_result"
    }
   ],
   "source": [
    "from sklearn.metrics import roc_auc_score\n",
    "roc_auc_score(y_test,y_pred)"
   ]
  },
  {
   "cell_type": "code",
   "execution_count": 53,
   "metadata": {},
   "outputs": [
    {
     "name": "stdout",
     "output_type": "stream",
     "text": [
      "0.8419928373474362 0.8410442645124233\n"
     ]
    }
   ],
   "source": [
    "MLP_train_score = MLP.score(X_train, y_train)\n",
    "MLP_test_score = MLP.score(X_test, y_test)\n",
    "print(MLP_train_score,MLP_test_score)"
   ]
  },
  {
   "cell_type": "code",
   "execution_count": 68,
   "metadata": {},
   "outputs": [],
   "source": [
    "x_test = x_test.drop(columns=['var_152','var_16','var_98','var_60','var_69','sum','med','mean','skew'],axis=1)"
   ]
  },
  {
   "cell_type": "code",
   "execution_count": 69,
   "metadata": {},
   "outputs": [],
   "source": [
    "y_score= MLP.predict(x_test)\n",
    "\n",
    "pd.DataFrame({'ID_code': test['ID_code'],'target': y_score}).to_csv('MLP6_submission.csv',index=False)"
   ]
  },
  {
   "cell_type": "code",
   "execution_count": null,
   "metadata": {},
   "outputs": [],
   "source": []
  }
 ],
 "metadata": {
  "kernelspec": {
   "display_name": "Python 3",
   "language": "python",
   "name": "python3"
  },
  "language_info": {
   "codemirror_mode": {
    "name": "ipython",
    "version": 3
   },
   "file_extension": ".py",
   "mimetype": "text/x-python",
   "name": "python",
   "nbconvert_exporter": "python",
   "pygments_lexer": "ipython3",
   "version": "3.6.6"
  }
 },
 "nbformat": 4,
 "nbformat_minor": 2
}
